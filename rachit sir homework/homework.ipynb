{
 "cells": [
  {
   "cell_type": "markdown",
   "metadata": {},
   "source": [
    "Problem: Given an array of integers, find the sub-array that has maximum sum. The array may have both have positive and negative integers. A sub-array is contiguous elements of the array. Your solution should return both the maximum sum and the start and end index of this sub-array. "
   ]
  },
  {
   "cell_type": "code",
   "execution_count": 294,
   "metadata": {},
   "outputs": [],
   "source": [
    "import numpy as np"
   ]
  },
  {
   "cell_type": "code",
   "execution_count": 409,
   "metadata": {},
   "outputs": [],
   "source": [
    "import random\n",
    "arr = [random.randrange(-5,20) for i in range(10)]"
   ]
  },
  {
   "cell_type": "code",
   "execution_count": 410,
   "metadata": {},
   "outputs": [
    {
     "data": {
      "text/plain": [
       "[-1, 8, -5, 15, 8, 1, 6, 4, 3, 14]"
      ]
     },
     "execution_count": 410,
     "metadata": {},
     "output_type": "execute_result"
    }
   ],
   "source": [
    "arr"
   ]
  },
  {
   "cell_type": "code",
   "execution_count": 411,
   "metadata": {},
   "outputs": [
    {
     "data": {
      "text/plain": [
       "15"
      ]
     },
     "execution_count": 411,
     "metadata": {},
     "output_type": "execute_result"
    }
   ],
   "source": [
    "max(arr)"
   ]
  },
  {
   "cell_type": "code",
   "execution_count": 415,
   "metadata": {},
   "outputs": [],
   "source": [
    "#arr = [-3, 3, 4, -4, 2, 1, -5, -1, 3, 3]\n",
    "#arr = [-3, -5, 0, 1, -5, -2, -2, 0, 1, 0]\n",
    "arr = [-4, -1, -5, 1, 0, 0, -4, -3, 0, 0]"
   ]
  },
  {
   "cell_type": "code",
   "execution_count": 416,
   "metadata": {},
   "outputs": [],
   "source": [
    "def max_sum_sub_array(arr):\n",
    "    ''' this function gives the subarray \n",
    "    \n",
    "    \n",
    "    '''\n",
    "    total_negatives = sum([1 for x in arr if x<0])\n",
    "    if total_negatives == len(arr):\n",
    "        print('since all the numbers in the array are negative,maximum sum is the max number itself which is {}, with index {}'.format(max(arr), arr.index(max(arr))))\n",
    "        \n",
    "        return arr.index(max(arr)), max(arr)\n",
    "    \n",
    "    else:\n",
    "        total_max = 0\n",
    "        start_ind = 0\n",
    "        end_ind = 0\n",
    "        total = 0\n",
    "        prev = 0\n",
    "        groups = []\n",
    "        for ind,num in enumerate(arr):\n",
    "            if sum([total,num])>= 0:\n",
    "                total = sum([total,num])\n",
    "                if total >= total_max:\n",
    "                    total_max = total\n",
    "                    end_ind = ind\n",
    "                    groups.append([start_ind,end_ind])\n",
    "                prev = num\n",
    "            else:\n",
    "        #if sum(arr[start_ind:ind]) > total_max:\n",
    "            #start_ind = ind\n",
    "                prev = 0\n",
    "                total=0\n",
    "                #if total_max == 0:\n",
    "                start_ind = ind+1\n",
    "            #end_ind = ind+1\n",
    "            \n",
    "        indices = []\n",
    "        array_sum = []\n",
    "        for x in groups:\n",
    "            if x[0] == x[1]:\n",
    "            #indices.append([x[0]])\n",
    "                array_sum.append(arr[x[0]])\n",
    "            else:\n",
    "            #indices.append([x[0],x[1]])\n",
    "                array_sum.append(sum(arr[x[0]:x[1]+1]))\n",
    "    #start_ind, end_ind = groups[array_sum.index(max(array_sum))]\n",
    "    #print('maximum sum for a subarray is {} with starting indices {} and ending indices {} for {} array'.format(max(array_sum), start_ind, end_ind, arr))    \n",
    "    \n",
    "        max_indices = np.where(np.array(array_sum)==max(array_sum))[0]\n",
    "        final_group_indeces = []\n",
    "        for ind in max_indices:\n",
    "            start_ind, end_ind = groups[ind]\n",
    "            final_group_indeces.append([start_ind, end_ind])\n",
    "            print('maximum sum is {} with starting indices {} and ending indices {}'.format(max(array_sum), start_ind, end_ind))\n",
    "    \n",
    "        return final_group_indeces, max(array_sum)"
   ]
  },
  {
   "cell_type": "code",
   "execution_count": 417,
   "metadata": {},
   "outputs": [
    {
     "data": {
      "text/plain": [
       "[-4, -1, -5, 1, 0, 0, -4, -3, 0, 0]"
      ]
     },
     "execution_count": 417,
     "metadata": {},
     "output_type": "execute_result"
    }
   ],
   "source": [
    "arr"
   ]
  },
  {
   "cell_type": "code",
   "execution_count": 418,
   "metadata": {},
   "outputs": [
    {
     "name": "stdout",
     "output_type": "stream",
     "text": [
      "maximum sum is 1 with starting indices 3 and ending indices 3\n",
      "maximum sum is 1 with starting indices 3 and ending indices 4\n",
      "maximum sum is 1 with starting indices 3 and ending indices 5\n"
     ]
    },
    {
     "data": {
      "text/plain": [
       "([[3, 3], [3, 4], [3, 5]], 1)"
      ]
     },
     "execution_count": 418,
     "metadata": {},
     "output_type": "execute_result"
    }
   ],
   "source": [
    "max_sum_sub_array(arr)"
   ]
  }
 ],
 "metadata": {
  "kernelspec": {
   "display_name": "Python 3",
   "language": "python",
   "name": "python3"
  },
  "language_info": {
   "codemirror_mode": {
    "name": "ipython",
    "version": 3
   },
   "file_extension": ".py",
   "mimetype": "text/x-python",
   "name": "python",
   "nbconvert_exporter": "python",
   "pygments_lexer": "ipython3",
   "version": "3.6.5"
  }
 },
 "nbformat": 4,
 "nbformat_minor": 2
}
