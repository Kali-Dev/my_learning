{
 "cells": [
  {
   "cell_type": "markdown",
   "metadata": {},
   "source": [
    "Problem: Given an array of integers, find the sub-array that has maximum sum. The array may have both have positive and negative integers. A sub-array is contiguous elements of the array. Your solution should return both the maximum sum and the start and end index of this sub-array. "
   ]
  },
  {
   "cell_type": "code",
   "execution_count": 5,
   "metadata": {},
   "outputs": [],
   "source": [
    "import numpy as np"
   ]
  },
  {
   "cell_type": "code",
   "execution_count": 6,
   "metadata": {},
   "outputs": [],
   "source": [
    "import random\n",
    "arr = [random.randrange(-5,20) for i in range(10)]"
   ]
  },
  {
   "cell_type": "code",
   "execution_count": 7,
   "metadata": {},
   "outputs": [
    {
     "data": {
      "text/plain": [
       "[-1, 0, 13, 7, 10, 7, -1, -5, 13, -2]"
      ]
     },
     "execution_count": 7,
     "metadata": {},
     "output_type": "execute_result"
    }
   ],
   "source": [
    "arr"
   ]
  },
  {
   "cell_type": "code",
   "execution_count": 8,
   "metadata": {},
   "outputs": [
    {
     "data": {
      "text/plain": [
       "13"
      ]
     },
     "execution_count": 8,
     "metadata": {},
     "output_type": "execute_result"
    }
   ],
   "source": [
    "max(arr)"
   ]
  },
  {
   "cell_type": "code",
   "execution_count": 9,
   "metadata": {},
   "outputs": [],
   "source": [
    "#arr = [-3, 3, 4, -4, 2, 1, -5, -1, 3, 3]\n",
    "#arr = [-3, -5, 0, 1, -5, -2, -2, 0, 1, 0]\n",
    "arr = [-4, -1, -5, 1, 0, 0, -4, -3, 0, 0]"
   ]
  },
  {
   "cell_type": "code",
   "execution_count": 10,
   "metadata": {},
   "outputs": [],
   "source": [
    "def max_sum_sub_array(arr):\n",
    "    ''' this function gives the maximum sum subarray from the given array\n",
    "    arr - should be a list\n",
    "    \n",
    "    '''\n",
    "    total_negatives = sum([1 for x in arr if x<0])\n",
    "    if total_negatives == len(arr):\n",
    "        print('since all the numbers in the array are negative,maximum sum is the max number itself which is {}, with index {}'.format(max(arr), arr.index(max(arr))))\n",
    "        \n",
    "        return arr.index(max(arr)), max(arr)\n",
    "    \n",
    "    else:\n",
    "        total_max = 0\n",
    "        start_ind = 0\n",
    "        end_ind = 0\n",
    "        total = 0\n",
    "        prev = 0\n",
    "        groups = []\n",
    "        for ind,num in enumerate(arr):\n",
    "            if sum([total,num])>= 0:\n",
    "                total = sum([total,num])\n",
    "                if total >= total_max:\n",
    "                    total_max = total\n",
    "                    end_ind = ind\n",
    "                    groups.append([start_ind,end_ind])\n",
    "                prev = num\n",
    "            else:\n",
    "        #if sum(arr[start_ind:ind]) > total_max:\n",
    "            #start_ind = ind\n",
    "                prev = 0\n",
    "                total=0\n",
    "                #if total_max == 0:\n",
    "                start_ind = ind+1\n",
    "            #end_ind = ind+1\n",
    "            \n",
    "        indices = []\n",
    "        array_sum = []\n",
    "        for x in groups:\n",
    "            if x[0] == x[1]:\n",
    "            #indices.append([x[0]])\n",
    "                array_sum.append(arr[x[0]])\n",
    "            else:\n",
    "            #indices.append([x[0],x[1]])\n",
    "                array_sum.append(sum(arr[x[0]:x[1]+1]))\n",
    "    #start_ind, end_ind = groups[array_sum.index(max(array_sum))]\n",
    "    #print('maximum sum for a subarray is {} with starting indices {} and ending indices {} for {} array'.format(max(array_sum), start_ind, end_ind, arr))    \n",
    "    \n",
    "        max_indices = np.where(np.array(array_sum)==max(array_sum))[0]\n",
    "        final_group_indeces = []\n",
    "        for ind in max_indices:\n",
    "            start_ind, end_ind = groups[ind]\n",
    "            final_group_indeces.append([start_ind, end_ind])\n",
    "            print('maximum sum is {} with starting indices {} and ending indices {}'.format(max(array_sum), start_ind, end_ind))\n",
    "    \n",
    "        return final_group_indeces, max(array_sum)"
   ]
  },
  {
   "cell_type": "code",
   "execution_count": 11,
   "metadata": {},
   "outputs": [
    {
     "data": {
      "text/plain": [
       "[-4, -1, -5, 1, 0, 0, -4, -3, 0, 0]"
      ]
     },
     "execution_count": 11,
     "metadata": {},
     "output_type": "execute_result"
    }
   ],
   "source": [
    "arr"
   ]
  },
  {
   "cell_type": "code",
   "execution_count": 12,
   "metadata": {},
   "outputs": [
    {
     "name": "stdout",
     "output_type": "stream",
     "text": [
      "maximum sum is 1 with starting indices 3 and ending indices 3\n",
      "maximum sum is 1 with starting indices 3 and ending indices 4\n",
      "maximum sum is 1 with starting indices 3 and ending indices 5\n"
     ]
    },
    {
     "data": {
      "text/plain": [
       "([[3, 3], [3, 4], [3, 5]], 1)"
      ]
     },
     "execution_count": 12,
     "metadata": {},
     "output_type": "execute_result"
    }
   ],
   "source": [
    "max_sum_sub_array(arr)"
   ]
  },
  {
   "cell_type": "markdown",
   "metadata": {},
   "source": [
    "## Finding the target variable in a sorted array using binary search\n",
    "```\n",
    "input_list = [3, 8, 9, 15, 100, 300, 500]\n",
    "```"
   ]
  },
  {
   "cell_type": "code",
   "execution_count": 18,
   "metadata": {},
   "outputs": [
    {
     "name": "stdout",
     "output_type": "stream",
     "text": [
      "target at index 0 of the list\n",
      "target at index 1 of the list\n",
      "target at index 2 of the list\n",
      "target at index 3 of the list\n",
      "target at index 4 of the list\n",
      "target at index 5 of the list\n",
      "target at index 6 of the list\n"
     ]
    }
   ],
   "source": [
    "def target_search(data, target, low, high, group='normal'):\n",
    "    '''\n",
    "    Assumes the input data is sorted\n",
    "    Gives the target's index in the list using binary search.\n",
    "    data - should be sorted list of numbers\n",
    "    target - integer whose index to be found.\n",
    "    '''\n",
    "    mid = (low + high)//(2)\n",
    "    if low>high:\n",
    "        print(\"Not Present\")\n",
    "        #return None\n",
    "    elif target == data[mid]:\n",
    "        print(\"target at index {} of the list\".format(mid))\n",
    "    elif target < data[mid]:\n",
    "        target_search(data, target, low=low, high=(mid-1))\n",
    "    elif target > data[mid]:\n",
    "        target_search(data, target, low= (mid+1), high=high)\n",
    "        \n",
    "if __name__ == '__main__':\n",
    "    input_list = [3, 8, 9, 15, 100, 300, 500]\n",
    "    for ele in input_list:\n",
    "        target_search(data=input_list, target=ele, low=0, high=len(input_list)-1)"
   ]
  },
  {
   "cell_type": "markdown",
   "metadata": {},
   "source": [
    "## Finding the target variable in a sorted array using binary search\n",
    "```\n",
    "input_list_rotated = [15, 100, 300, 500, 3, 8, 9]\n",
    "```"
   ]
  },
  {
   "cell_type": "code",
   "execution_count": 2,
   "metadata": {},
   "outputs": [],
   "source": [
    "def correct_sort(data, low, high):\n",
    "    \n",
    "    if (len(data) > 1) and (data[low] < data[high]):\n",
    "        print(\"data is sorted\")\n",
    "        return data\n",
    "    elif (len(data) == 1):\n",
    "        print(\"single element array\")\n",
    "        return data\n",
    "\n",
    "    else:\n",
    "        \n",
    "        mid = (low+high)//(2)\n",
    "        # condition is true if when mid indexed value is the largest in the whole array\n",
    "        if data[mid] > data[mid+1]:\n",
    "            # Creating low sorted groups and high sorted groups\n",
    "            low_group = data[mid+1:]\n",
    "            global high_group\n",
    "            high_group = data[:mid+1]\n",
    "            return correct_sort(data=low_group, low=0, high=len(low_group)-1), \\\n",
    "        correct_sort(data=high_group, low=0, high=len(high_group)-1)\n",
    "        \n",
    "        elif (data[mid] < data[mid+1]) and (data[mid]>data[-1]):\n",
    "            return correct_sort(data, low=mid, high=high)\n",
    "        \n",
    "        elif ((data[mid] < data[mid+1]) and (data[mid]<data[0])):\n",
    "            return correct_sort(data, low=low, high=mid)\n",
    "            \n",
    "       "
   ]
  },
  {
   "cell_type": "code",
   "execution_count": 3,
   "metadata": {},
   "outputs": [],
   "source": [
    "def rotated_target_search(data, target, low, high, group='normal'):\n",
    "    '''\n",
    "    Assumes the input data is sorted\n",
    "    Gives the target's index in the list using binary search.\n",
    "    data - should be sorted list of numbers\n",
    "    target - integer whose index to be found.\n",
    "    '''\n",
    "    mid = (low + high)//(2)\n",
    "    if low>high:\n",
    "        print(\"Not Present\")\n",
    "        #return None\n",
    "    elif target == data[mid]:\n",
    "        if group == 'normal':\n",
    "            print(\"target at index {} of the list\".format(mid))\n",
    "            \n",
    "        elif group == \"low_group\":\n",
    "            print(\"target at index {} of the list\".format(mid+len(high_data)))\n",
    "    elif target < data[mid]:\n",
    "        if target < high_data[0]:\n",
    "            rotated_target_search(data, target, low=low, high=(mid-1), group='low_group')\n",
    "        else:\n",
    "            rotated_target_search(data, target, low=low, high=(mid-1))\n",
    "    elif target > data[mid]:\n",
    "        if target < high_data[0]:\n",
    "            rotated_target_search(data, target, low= (mid+1), high=high, group='low_group')\n",
    "        else:\n",
    "            rotated_target_search(data, target, low= (mid+1), high=high)"
   ]
  },
  {
   "cell_type": "code",
   "execution_count": 15,
   "metadata": {},
   "outputs": [
    {
     "name": "stdout",
     "output_type": "stream",
     "text": [
      "given rotated sort list is [15, 100, 300, 500, 3, 8, 9]\n",
      "data is sorted\n",
      "data is sorted\n",
      "Low group data and high group data of given list is [3, 8, 9], [15, 100, 300, 500]\n",
      "target at index 0 of the list\n",
      "target at index 1 of the list\n",
      "target at index 2 of the list\n",
      "target at index 3 of the list\n",
      "target at index 4 of the list\n",
      "target at index 5 of the list\n",
      "target at index 6 of the list\n"
     ]
    }
   ],
   "source": [
    "if __name__ == '__main__':\n",
    "    input_list_rotated = [15, 100, 300, 500, 3, 8, 9]\n",
    "    print(\"given rotated sort list is {}\".format(input_list_rotated))\n",
    "    low_data, high_data = correct_sort(data=input_list_rotated, low=0, high=len(input_list_rotated)-1)\n",
    "    print(\"Low group data and high group data of given list is {}, {}\".format(low_data, high_data))\n",
    "    for tar in input_list_rotated:\n",
    "        if tar <= low_data[-1]:\n",
    "            rotated_target_search(data=low_data, target=tar, low=0, high=len(low_data)-1, group='low_group')\n",
    "        else:\n",
    "            rotated_target_search(data=high_data, target=tar, low=0, high=len(high_data)-1)"
   ]
  }
 ],
 "metadata": {
  "kernelspec": {
   "display_name": "Python 3",
   "language": "python",
   "name": "python3"
  },
  "language_info": {
   "codemirror_mode": {
    "name": "ipython",
    "version": 3
   },
   "file_extension": ".py",
   "mimetype": "text/x-python",
   "name": "python",
   "nbconvert_exporter": "python",
   "pygments_lexer": "ipython3",
   "version": "3.7.1"
  }
 },
 "nbformat": 4,
 "nbformat_minor": 2
}
