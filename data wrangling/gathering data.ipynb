{
 "cells": [
  {
   "cell_type": "code",
   "execution_count": 2,
   "metadata": {},
   "outputs": [],
   "source": [
    "%matplotlib inline\n",
    "import numpy as np\n",
    "import pandas as pd\n",
    "from bs4 import BeautifulSoup\n",
    "import matplotlib.pyplot as plt\n",
    "import zipfile\n",
    "import glob"
   ]
  },
  {
   "cell_type": "code",
   "execution_count": 3,
   "metadata": {},
   "outputs": [
    {
     "data": {
      "text/plain": [
       "['.ipynb_checkpoints',\n",
       " 'armenian-online-job-postings.zip',\n",
       " 'bestofrt.tsv',\n",
       " 'Data wrangling.ipynb',\n",
       " 'ebert-reviews.zip',\n",
       " 'example-job-posting.jpg',\n",
       " 'features.txt',\n",
       " 'gathering data.ipynb',\n",
       " 'online-job-postings.csv',\n",
       " 'rt-html',\n",
       " 'rt-html.zip']"
      ]
     },
     "execution_count": 3,
     "metadata": {},
     "output_type": "execute_result"
    }
   ],
   "source": [
    "import os \n",
    "os.listdir()"
   ]
  },
  {
   "cell_type": "code",
   "execution_count": 4,
   "metadata": {},
   "outputs": [],
   "source": [
    "os.chdir(\"rt-html/rt_html/\")"
   ]
  },
  {
   "cell_type": "code",
   "execution_count": 5,
   "metadata": {},
   "outputs": [
    {
     "data": {
      "text/plain": [
       "'C:\\\\Users\\\\kali\\\\Desktop\\\\git\\\\my_learning\\\\data wrangling\\\\rt-html\\\\rt_html'"
      ]
     },
     "execution_count": 5,
     "metadata": {},
     "output_type": "execute_result"
    }
   ],
   "source": [
    "os.getcwd()"
   ]
  },
  {
   "cell_type": "code",
   "execution_count": 6,
   "metadata": {},
   "outputs": [],
   "source": [
    "with open(\"et_the_extraterrestrial.html\") as fp:\n",
    "    soup = BeautifulSoup(fp, 'lxml')"
   ]
  },
  {
   "cell_type": "code",
   "execution_count": 7,
   "metadata": {},
   "outputs": [
    {
     "data": {
      "text/plain": [
       "['E.T. The Extra-Terrestrial\\xa0(1982) - Rotten Tomatoes']"
      ]
     },
     "execution_count": 7,
     "metadata": {},
     "output_type": "execute_result"
    }
   ],
   "source": [
    "soup.find(\"title\").contents"
   ]
  },
  {
   "cell_type": "code",
   "execution_count": 59,
   "metadata": {},
   "outputs": [
    {
     "data": {
      "text/plain": [
       "'72%'"
      ]
     },
     "execution_count": 59,
     "metadata": {},
     "output_type": "execute_result"
    }
   ],
   "source": [
    "soup.find(style=\"vertical-align:top\").contents[0]"
   ]
  },
  {
   "cell_type": "code",
   "execution_count": 99,
   "metadata": {},
   "outputs": [],
   "source": [
    "aa = soup.find(\"div\", class_=\"audience-info hidden-xs superPageFontColor\")"
   ]
  },
  {
   "cell_type": "code",
   "execution_count": 104,
   "metadata": {},
   "outputs": [
    {
     "data": {
      "text/plain": [
       "'32,313,030'"
      ]
     },
     "execution_count": 104,
     "metadata": {},
     "output_type": "execute_result"
    }
   ],
   "source": [
    "aa.find_all(\"div\")[1].contents[2].strip()"
   ]
  },
  {
   "cell_type": "code",
   "execution_count": 21,
   "metadata": {},
   "outputs": [
    {
     "data": {
      "text/plain": [
       "['1000013-12_angry_men.html',\n",
       " '1000121-39_steps.html',\n",
       " '1000355-adventures_of_robin_hood.html',\n",
       " '1000626-all_about_eve.html',\n",
       " '1000642-all_quiet_on_the_western_front.html',\n",
       " '1003707-casablanca.html',\n",
       " '1007818-frankenstein.html',\n",
       " '1011615-king_kong.html',\n",
       " '1012007-laura.html',\n",
       " '1012928-m.html',\n",
       " '1013139-maltese_falcon.html',\n",
       " '1013775-metropolis.html',\n",
       " '1017289-rear_window.html',\n",
       " '1017293-rebecca.html',\n",
       " '1020333-streetcar_named_desire.html',\n",
       " '1021749-touch_of_evil.html',\n",
       " '1046060-high_noon.html',\n",
       " '1048445-snow_white_and_the_seven_dwarfs.html',\n",
       " '12_years_a_slave.html',\n",
       " '400_blows.html',\n",
       " 'alien.html',\n",
       " 'apocalypse_now.html',\n",
       " 'argo_2012.html',\n",
       " 'army_of_shadows.html',\n",
       " 'arrival_2016.html',\n",
       " 'baby_driver.html',\n",
       " 'battleship_potemkin.html',\n",
       " 'beatles_a_hard_days_night.html',\n",
       " 'bicycle_thieves.html',\n",
       " 'boyhood.html',\n",
       " 'bride_of_frankenstein.html',\n",
       " 'brooklyn.html',\n",
       " 'citizen_kane.html',\n",
       " 'dr_strangelove.html',\n",
       " 'dunkirk_2017.html',\n",
       " 'et_the_extraterrestrial.html',\n",
       " 'finding_nemo.html',\n",
       " 'get_out.html',\n",
       " 'godfather.html',\n",
       " 'godfather_part_ii.html',\n",
       " 'gone_with_the_wind.html',\n",
       " 'grapes_of_wrath.html',\n",
       " 'gravity_2013.html',\n",
       " 'harry_potter_and_the_deathly_hallows_part_2_2011.html',\n",
       " 'hell_or_high_water.html',\n",
       " 'inside_out_2015.html',\n",
       " 'it_happened_one_night.html',\n",
       " 'jaws.html',\n",
       " 'last_picture_show.html',\n",
       " 'la_confidential.html',\n",
       " 'la_grande_illusion.html',\n",
       " 'la_la_land.html',\n",
       " 'logan_2017.html',\n",
       " 'mad_max_fury_road.html',\n",
       " 'manchester_by_the_sea.html',\n",
       " 'man_on_wire.html',\n",
       " 'modern_times.html',\n",
       " 'moonlight_2016.html',\n",
       " 'night_of_the_hunter.html',\n",
       " 'north-by-northwest.html',\n",
       " 'nosferatu.html',\n",
       " 'on_the_waterfront.html',\n",
       " 'open_city.html',\n",
       " 'philadelphia_story.html',\n",
       " 'pinocchio_1940.html',\n",
       " 'psycho.html',\n",
       " 'rashomon.html',\n",
       " 'repulsion.html',\n",
       " 'roman_holiday.html',\n",
       " 'rosemarys_baby.html',\n",
       " 'selma.html',\n",
       " 'seven_samurai_1956.html',\n",
       " 'singin_in_the_rain.html',\n",
       " 'skyfall.html',\n",
       " 'spotlight_2015.html',\n",
       " 'star_trek_11.html',\n",
       " 'star_wars_episode_vii_the_force_awakens.html',\n",
       " 'sunset_boulevard.html',\n",
       " 'taxi_driver.html',\n",
       " 'the_babadook.html',\n",
       " 'the_battle_of_algiers.html',\n",
       " 'the_big_sick.html',\n",
       " 'the_cabinet_of_dr_caligari.html',\n",
       " 'the_conformist.html',\n",
       " 'the_dark_knight.html',\n",
       " 'the_good_the_bad_and_the_ugly.html',\n",
       " 'the_jungle_book_2016.html',\n",
       " 'the_third_man.html',\n",
       " 'the_wizard_of_oz_1939.html',\n",
       " 'the_wrestler.html',\n",
       " 'tokyo_story.html',\n",
       " 'toy_story.html',\n",
       " 'toy_story_2.html',\n",
       " 'toy_story_3.html',\n",
       " 'treasure_of_the_sierra_madre.html',\n",
       " 'up.html',\n",
       " 'vertigo.html',\n",
       " 'wages_of_fear.html',\n",
       " 'wonder_woman_2017.html',\n",
       " 'zootopia.html']"
      ]
     },
     "execution_count": 21,
     "metadata": {},
     "output_type": "execute_result"
    }
   ],
   "source": [
    "os.listdir()"
   ]
  },
  {
   "cell_type": "code",
   "execution_count": null,
   "metadata": {},
   "outputs": [],
   "source": []
  },
  {
   "cell_type": "code",
   "execution_count": 10,
   "metadata": {},
   "outputs": [
    {
     "data": {
      "text/plain": [
       "'1000013-12_angry_men.html'"
      ]
     },
     "execution_count": 10,
     "metadata": {},
     "output_type": "execute_result"
    }
   ],
   "source": [
    "with open(os.path.join(os.listdir()[0]"
   ]
  },
  {
   "cell_type": "code",
   "execution_count": null,
   "metadata": {},
   "outputs": [],
   "source": [
    "# List of dictionaries to build file by file and later convert to a DataFrame\n",
    "df_list = []\n",
    "print(os.getcwd())\n",
    "#folder = 'rt_html'\n",
    "for movie_html in os.listdir():\n",
    "    with open(movie_html) as file:\n",
    "        # Your code here\n",
    "        # Note: a correct implementation may take ~15 seconds to run\n",
    "        \n",
    "        \n",
    "        # Append to list of dictionaries\n",
    "        df_list.append({'title': title,\n",
    "                        'audience_score': int(audience_score),\n",
    "                        'number_of_audience_ratings': int(num_audience_ratings)})\n",
    "df = pd.DataFrame(df_list, columns = ['title', 'audience_score', 'number_of_audience_ratings'])"
   ]
  }
 ],
 "metadata": {
  "kernelspec": {
   "display_name": "Python 3",
   "language": "python",
   "name": "python3"
  },
  "language_info": {
   "codemirror_mode": {
    "name": "ipython",
    "version": 3
   },
   "file_extension": ".py",
   "mimetype": "text/x-python",
   "name": "python",
   "nbconvert_exporter": "python",
   "pygments_lexer": "ipython3",
   "version": "3.7.1"
  }
 },
 "nbformat": 4,
 "nbformat_minor": 2
}
